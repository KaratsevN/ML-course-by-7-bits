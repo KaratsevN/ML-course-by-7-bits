{
 "cells": [
  {
   "cell_type": "code",
   "execution_count": 5,
   "metadata": {},
   "outputs": [
    {
     "name": "stdout",
     "output_type": "stream",
     "text": [
      "Matrix * const: \n",
      " [[30  5 50]\n",
      " [35 10 25]\n",
      " [10 25 45]]\n",
      "Matrix * Matrix: \n",
      " [[315 290 775]\n",
      " [330 180 625]\n",
      " [325 285 630]]\n",
      "Matrix + Matrix: \n",
      " [[321 291 785]\n",
      " [337 182 630]\n",
      " [327 290 639]]\n",
      "Det =  215.0000000000001\n",
      "Inverse matrix: \n",
      " [[-0.03255814  0.19069767 -0.06976744]\n",
      " [-0.24651163  0.15813953  0.18604651]\n",
      " [ 0.14418605 -0.13023256  0.02325581]]\n",
      "Transpose matrix: \n",
      " [[ 6  7  2]\n",
      " [ 1  2  5]\n",
      " [10  5  9]]\n"
     ]
    }
   ],
   "source": [
    "import numpy as np\n",
    "import random\n",
    "class Matrix(object):\n",
    "    \n",
    "    def __init__(self, n, m):\n",
    "        self.n = n\n",
    "        self.m = m\n",
    "        self.A = np.zeros((self.n,self.m), dtype=int)\n",
    "    pass\n",
    "    def fill_matr(self):\n",
    "        for i in range(self.n):\n",
    "            for j in range(self.m):\n",
    "                self.A[i,j] = random.randint(1,10)\n",
    "    \n",
    "    def addit_matr(self,b):\n",
    "        return self.A + b\n",
    "    \n",
    "    def multipl_matr(self,b):\n",
    "        return self.A @ b\n",
    "\n",
    "    def multipl_const_matr(self,x):\n",
    "        return self.A * x\n",
    "\n",
    "    def det_matr(self):\n",
    "        return np.linalg.det(self.A)\n",
    "    \n",
    "    def inverse_matr(self):\n",
    "        return np.linalg.inv(self.A)\n",
    "    \n",
    "    def transpose_matr(self):\n",
    "        return self.A.transpose()\n",
    "\n",
    "a = Matrix(3,3)\n",
    "a.fill_matr()\n",
    "b = Matrix(3,3)\n",
    "b.fill_matr()\n",
    "b = a.multipl_const_matr(5)\n",
    "print(\"Matrix * const: \\n\",b)\n",
    "b = a.multipl_matr(b)\n",
    "print(\"Matrix * Matrix: \\n\",b)\n",
    "b = a.addit_matr(b)\n",
    "print(\"Matrix + Matrix: \\n\",b)\n",
    "print(\"Det = \",a.det_matr())\n",
    "print(\"Inverse matrix: \\n\",a.inverse_matr())\n",
    "print(\"Transpose matrix: \\n\",a.transpose_matr())"
   ]
  },
  {
   "cell_type": "code",
   "execution_count": null,
   "metadata": {},
   "outputs": [],
   "source": []
  },
  {
   "cell_type": "code",
   "execution_count": null,
   "metadata": {},
   "outputs": [],
   "source": []
  }
 ],
 "metadata": {
  "kernelspec": {
   "display_name": "Python 3",
   "language": "python",
   "name": "python3"
  },
  "language_info": {
   "codemirror_mode": {
    "name": "ipython",
    "version": 3
   },
   "file_extension": ".py",
   "mimetype": "text/x-python",
   "name": "python",
   "nbconvert_exporter": "python",
   "pygments_lexer": "ipython3",
   "version": "3.6.6"
  }
 },
 "nbformat": 4,
 "nbformat_minor": 2
}
