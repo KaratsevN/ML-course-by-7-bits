{
 "cells": [
  {
   "cell_type": "markdown",
   "metadata": {},
   "source": [
    "# Homework 2.1 Numpy\n",
    "\n",
    "1. Скачайте этот ноутбук к себе.\n",
    "2. Заполните пропущенные ячейки, отвечая на заданные вопросы. Там должен быть код! (если не сказано обратное)\n",
    "3. Сохраните результат в своём гитхаб репозитории.\n",
    "\n",
    "#### Полезная литература\n",
    "\n",
    "- http://www.numpy.org/\n",
    "- https://jakevdp.github.io/PythonDataScienceHandbook/02.00-introduction-to-numpy.html\n",
    "- https://docs.scipy.org/doc/numpy/user/quickstart.html"
   ]
  },
  {
   "cell_type": "markdown",
   "metadata": {},
   "source": [
    "1) Создать матрицу с числами в диапазоне от 1 до 4 по диагонали. В других ячейках матрицы должны быть семерки."
   ]
  },
  {
   "cell_type": "code",
   "execution_count": 2,
   "metadata": {
    "scrolled": true
   },
   "outputs": [
    {
     "data": {
      "text/plain": [
       "array([[2, 7, 7, 7],\n",
       "       [7, 4, 7, 7],\n",
       "       [7, 7, 2, 7],\n",
       "       [7, 7, 7, 3]])"
      ]
     },
     "execution_count": 2,
     "metadata": {},
     "output_type": "execute_result"
    }
   ],
   "source": [
    "import numpy as np\n",
    "import random\n",
    "a = np.full((4,4),7)\n",
    "for i in range(4):\n",
    "    a[i][i] = random.randint(1,4)\n",
    "a"
   ]
  },
  {
   "cell_type": "markdown",
   "metadata": {},
   "source": [
    "2) Создать матрицу размера 5 на 5 заполненную чилами от 0 до 4 в строках."
   ]
  },
  {
   "cell_type": "code",
   "execution_count": 49,
   "metadata": {},
   "outputs": [
    {
     "data": {
      "text/plain": [
       "array([[0, 1, 2, 3],\n",
       "       [0, 1, 2, 3],\n",
       "       [0, 1, 2, 3],\n",
       "       [0, 1, 2, 3],\n",
       "       [0, 1, 2, 3]])"
      ]
     },
     "execution_count": 49,
     "metadata": {},
     "output_type": "execute_result"
    }
   ],
   "source": [
    "a = np.array([[i for i in range(4)], [i for i in range(4)], [i for i in range(4)], [i for i in range(4)], [i for i in range(4)]])\n",
    "a"
   ]
  },
  {
   "cell_type": "markdown",
   "metadata": {},
   "source": [
    "3) Создать матрицу случайных чисел размера 10 на 10 и отнять среднее по строкам из каждого элемента строки"
   ]
  },
  {
   "cell_type": "code",
   "execution_count": 63,
   "metadata": {},
   "outputs": [
    {
     "name": "stdout",
     "output_type": "stream",
     "text": [
      "[[3 1 4 9 2 7 2 2 0 1]\n",
      " [3 8 3 0 9 3 4 3 6 6]\n",
      " [5 2 5 1 8 2 2 3 2 0]\n",
      " [8 4 7 9 4 4 0 9 0 7]\n",
      " [5 8 2 2 6 6 2 8 9 0]\n",
      " [1 8 9 2 1 1 9 1 9 2]\n",
      " [7 6 0 7 1 2 3 4 9 5]\n",
      " [2 2 8 8 2 3 0 5 9 1]\n",
      " [4 0 9 2 6 5 0 3 4 6]\n",
      " [3 2 3 7 3 3 3 5 3 2]]\n",
      "[3.1 4.5 3.  5.2 4.8 4.3 4.4 4.  3.9 3.4]\n"
     ]
    },
    {
     "data": {
      "text/plain": [
       "array([[ 0, -2,  0,  5, -1,  3, -1, -1, -3, -2],\n",
       "       [-1,  3, -1, -4,  4, -1,  0, -1,  1,  1],\n",
       "       [ 2, -1,  2, -2,  5, -1, -1,  0, -1, -3],\n",
       "       [ 2, -1,  1,  3, -1, -1, -5,  3, -5,  1],\n",
       "       [ 0,  3, -2, -2,  1,  1, -2,  3,  4, -4],\n",
       "       [-3,  3,  4, -2, -3, -3,  4, -3,  4, -2],\n",
       "       [ 2,  1, -4,  2, -3, -2, -1,  0,  4,  0],\n",
       "       [-2, -2,  4,  4, -2, -1, -4,  1,  5, -3],\n",
       "       [ 0, -3,  5, -1,  2,  1, -3,  0,  0,  2],\n",
       "       [ 0, -1,  0,  3,  0,  0,  0,  1,  0, -1]])"
      ]
     },
     "execution_count": 63,
     "metadata": {},
     "output_type": "execute_result"
    }
   ],
   "source": [
    "a = np.random.randint(0, 10, (10,10))\n",
    "k = np.zeros(10)\n",
    "print(a)\n",
    "for i in range(0,10):\n",
    "    for j in range(0,10):\n",
    "        k[i] += a[i,j]\n",
    "for i in range(0,10):\n",
    "    k[i] =  k[i]/10\n",
    "print(k)\n",
    "for i in range(0,10):\n",
    "    for j in range(0,10):\n",
    "        a[i,j] -= k[i]\n",
    "a"
   ]
  },
  {
   "cell_type": "markdown",
   "metadata": {},
   "source": [
    "4) Создать матрицу случайных чисел размера 10 на 10 и отнять медиану по столбцам из каждого элемента столбца  "
   ]
  },
  {
   "cell_type": "code",
   "execution_count": 65,
   "metadata": {},
   "outputs": [
    {
     "name": "stdout",
     "output_type": "stream",
     "text": [
      "[[8 1 9 5 9 4 3 7 8 1]\n",
      " [8 8 6 7 4 2 4 8 6 5]\n",
      " [9 4 7 3 5 1 8 8 1 6]\n",
      " [0 8 7 0 7 2 2 9 5 7]\n",
      " [6 7 0 2 5 1 1 3 6 0]\n",
      " [6 2 6 9 1 3 4 3 9 7]\n",
      " [6 2 4 8 9 6 8 8 7 8]\n",
      " [9 8 7 8 3 5 5 9 3 5]\n",
      " [0 5 5 8 5 8 7 8 2 1]\n",
      " [7 6 4 6 7 1 7 0 4 1]]\n",
      "median is:  6.5\n",
      "median is:  5.5\n",
      "median is:  6.0\n",
      "median is:  6.5\n",
      "median is:  5.0\n",
      "median is:  2.5\n",
      "median is:  4.5\n",
      "median is:  8.0\n",
      "median is:  5.5\n",
      "median is:  5.0\n"
     ]
    },
    {
     "data": {
      "text/plain": [
       "array([[ 1, -5,  2, -1,  2, -2, -3,  0,  1, -5],\n",
       "       [ 2,  2,  0,  1, -1, -3, -1,  2,  0,  0],\n",
       "       [ 3, -2,  1, -3, -1, -5,  2,  2, -5,  0],\n",
       "       [-6,  1,  0, -6,  0, -4, -4,  2, -1,  0],\n",
       "       [ 1,  2, -5, -3,  0, -4, -4, -2,  1, -5],\n",
       "       [ 3,  0,  3,  6, -1,  0,  1,  0,  6,  4],\n",
       "       [ 1, -2,  0,  3,  4,  1,  3,  3,  2,  3],\n",
       "       [ 1,  0, -1,  0, -5, -3, -3,  1, -5, -3],\n",
       "       [-5,  0,  0,  2,  0,  2,  1,  2, -3, -4],\n",
       "       [ 2,  1, -1,  1,  2, -4,  2, -5, -1, -4]])"
      ]
     },
     "execution_count": 65,
     "metadata": {},
     "output_type": "execute_result"
    }
   ],
   "source": [
    "from statistics import median\n",
    "a = np.random.randint(0, 10, (10,10))\n",
    "k = np.zeros(10)\n",
    "print(a)\n",
    "for i in range(0,10):\n",
    "        k[i] += median(a[:,i])\n",
    "        print(\"median is: \", k[i])\n",
    "for i in range(0,10):\n",
    "    for j in range(0,10):\n",
    "        a[i,j] -= k[i]\n",
    "a"
   ]
  },
  {
   "cell_type": "markdown",
   "metadata": {},
   "source": [
    "5) Создать матрицу случайных чисел 5x5. Добавить к ней столбецы максимумов и минимумов по строкам. Получится матрица 5x7.  "
   ]
  },
  {
   "cell_type": "code",
   "execution_count": 40,
   "metadata": {},
   "outputs": [
    {
     "name": "stdout",
     "output_type": "stream",
     "text": [
      "[[7 1 6 4 2 1 7]\n",
      " [2 6 6 8 8 2 8]\n",
      " [4 4 0 1 8 0 8]\n",
      " [9 2 0 1 7 0 9]\n",
      " [3 4 1 2 9 1 9]]\n",
      "[1 2 0 0 1]\n",
      "[7 8 8 9 9]\n"
     ]
    },
    {
     "data": {
      "text/plain": [
       "array([[7, 1, 6, 4, 2, 1, 7],\n",
       "       [2, 6, 6, 8, 8, 2, 8],\n",
       "       [4, 4, 0, 1, 8, 0, 8],\n",
       "       [9, 2, 0, 1, 7, 0, 9],\n",
       "       [3, 4, 1, 2, 9, 1, 9]])"
      ]
     },
     "execution_count": 40,
     "metadata": {},
     "output_type": "execute_result"
    }
   ],
   "source": [
    "a = np.random.randint(0, 10, (5,5))\n",
    "#vector_min = np.zeros(5)\n",
    "#vector_b = np.zeros(5)\n",
    "vector_min = a.min(axis=1)\n",
    "vector_max = a.max(axis=1)\n",
    "a = np.column_stack((a, vector_min))\n",
    "a = np.column_stack((a, vector_max))\n",
    "print(a)\n",
    "print(vector_min)\n",
    "print(vector_max)\n",
    "a"
   ]
  },
  {
   "cell_type": "markdown",
   "metadata": {},
   "source": [
    "6) Вектор чисел от 1 до 51 преобразовать в вектор нечетных чисел и в вектор четных чисел, поменять их размерности, чтобы получились две матрица. Найти произведение этих матриц. Найти обратную матрицу эётого произведения.  "
   ]
  },
  {
   "cell_type": "code",
   "execution_count": 91,
   "metadata": {},
   "outputs": [
    {
     "data": {
      "text/plain": [
       "array([[ 750, 1850, 2950, 4050, 5150],\n",
       "       [ 800, 2000, 3200, 4400, 5600],\n",
       "       [ 850, 2150, 3450, 4750, 6050],\n",
       "       [ 900, 2300, 3700, 5100, 6500],\n",
       "       [ 950, 2450, 3950, 5450, 6950]])"
      ]
     },
     "execution_count": 91,
     "metadata": {},
     "output_type": "execute_result"
    }
   ],
   "source": [
    "a = np.arange(1, 51)\n",
    "even = np.array(a[::2])\n",
    "noteven = np.array(a[a % 2 ==0])\n",
    "even.shape = (5,5)\n",
    "noteven.shape = (5,5)\n",
    "d = (even @ noteven).transpose()\n",
    "d"
   ]
  },
  {
   "cell_type": "markdown",
   "metadata": {},
   "source": [
    "7) Создать 8x8 матрицу и заполнить её в шахматном порядке нулями и единицами. "
   ]
  },
  {
   "cell_type": "code",
   "execution_count": 44,
   "metadata": {},
   "outputs": [
    {
     "data": {
      "text/plain": [
       "array([[0., 1., 0., 1., 0., 1., 0., 1.],\n",
       "       [1., 0., 1., 0., 1., 0., 1., 0.],\n",
       "       [0., 1., 0., 1., 0., 1., 0., 1.],\n",
       "       [1., 0., 1., 0., 1., 0., 1., 0.],\n",
       "       [0., 1., 0., 1., 0., 1., 0., 1.],\n",
       "       [1., 0., 1., 0., 1., 0., 1., 0.],\n",
       "       [0., 1., 0., 1., 0., 1., 0., 1.],\n",
       "       [1., 0., 1., 0., 1., 0., 1., 0.]])"
      ]
     },
     "execution_count": 44,
     "metadata": {},
     "output_type": "execute_result"
    }
   ],
   "source": [
    "a = np.zeros((8,8))\n",
    "for i in range(0,8):\n",
    "    for j in range(0,8):\n",
    "        if((i+j) % 2 == 0):\n",
    "            a[i,j] = 0\n",
    "        else:\n",
    "            a[i,j] = 1\n",
    "a"
   ]
  }
 ],
 "metadata": {
  "kernelspec": {
   "display_name": "Python 3",
   "language": "python",
   "name": "python3"
  },
  "language_info": {
   "codemirror_mode": {
    "name": "ipython",
    "version": 3
   },
   "file_extension": ".py",
   "mimetype": "text/x-python",
   "name": "python",
   "nbconvert_exporter": "python",
   "pygments_lexer": "ipython3",
   "version": "3.6.6"
  }
 },
 "nbformat": 4,
 "nbformat_minor": 2
}
